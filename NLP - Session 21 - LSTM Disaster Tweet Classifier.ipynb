{
  "nbformat": 4,
  "nbformat_minor": 0,
  "metadata": {
    "colab": {
      "name": "NLP - Session 21 - LSTM Disaster Tweet Classifier.ipynb",
      "provenance": [],
      "authorship_tag": "ABX9TyP7weIRLhvnvuo9lsQ4cupD",
      "include_colab_link": true
    },
    "kernelspec": {
      "name": "python3",
      "display_name": "Python 3"
    },
    "language_info": {
      "name": "python"
    }
  },
  "cells": [
    {
      "cell_type": "markdown",
      "metadata": {
        "id": "view-in-github",
        "colab_type": "text"
      },
      "source": [
        "<a href=\"https://colab.research.google.com/github/sahug/ds-nlp/blob/main/NLP%20-%20Session%2021%20-%20LSTM%20Disaster%20Tweet%20Classifier.ipynb\" target=\"_parent\"><img src=\"https://colab.research.google.com/assets/colab-badge.svg\" alt=\"Open In Colab\"/></a>"
      ]
    },
    {
      "cell_type": "markdown",
      "source": [
        "**NLP - Session 21 - LSTM Disaster Tweet Classifier**"
      ],
      "metadata": {
        "id": "_8Tf4ElvjXpu"
      }
    },
    {
      "cell_type": "code",
      "execution_count": 1,
      "metadata": {
        "id": "JUX0_1k6jL_J"
      },
      "outputs": [],
      "source": [
        "import tensorflow as tf\n",
        "from tensorflow import keras\n",
        "from tensorflow.keras import layers\n",
        "import numpy as np\n",
        "import matplotlib.pyplot as plt\n",
        "import pandas as pd\n",
        "import seaborn as sns\n",
        "from collections import Counter\n",
        "import nltk\n",
        "from nltk.corpus import stopwords\n",
        "from nltk.tokenize import word_tokenize\n",
        "import re\n",
        "import string\n",
        "from tensorflow.keras.preprocessing.text import Tokenizer\n",
        "from tensorflow.keras.preprocessing.sequence import pad_sequences"
      ]
    },
    {
      "cell_type": "code",
      "source": [
        "test_ds = pd.read_csv(\"/content/test.csv\")\n",
        "train_ds = pd.read_csv(\"/content/train.csv\")"
      ],
      "metadata": {
        "id": "FW19IbyfjXQk"
      },
      "execution_count": 2,
      "outputs": []
    },
    {
      "cell_type": "code",
      "source": [
        "train_ds.describe()"
      ],
      "metadata": {
        "colab": {
          "base_uri": "https://localhost:8080/",
          "height": 300
        },
        "id": "wlEYUocFmylA",
        "outputId": "054aa82f-90a2-4cc1-bb1c-5020ecfb3ec7"
      },
      "execution_count": 3,
      "outputs": [
        {
          "output_type": "execute_result",
          "data": {
            "text/plain": [
              "                 id      target\n",
              "count   7613.000000  7613.00000\n",
              "mean    5441.934848     0.42966\n",
              "std     3137.116090     0.49506\n",
              "min        1.000000     0.00000\n",
              "25%     2734.000000     0.00000\n",
              "50%     5408.000000     0.00000\n",
              "75%     8146.000000     1.00000\n",
              "max    10873.000000     1.00000"
            ],
            "text/html": [
              "\n",
              "  <div id=\"df-7b83dc8f-e865-4eae-bcd6-fa19449cfcba\">\n",
              "    <div class=\"colab-df-container\">\n",
              "      <div>\n",
              "<style scoped>\n",
              "    .dataframe tbody tr th:only-of-type {\n",
              "        vertical-align: middle;\n",
              "    }\n",
              "\n",
              "    .dataframe tbody tr th {\n",
              "        vertical-align: top;\n",
              "    }\n",
              "\n",
              "    .dataframe thead th {\n",
              "        text-align: right;\n",
              "    }\n",
              "</style>\n",
              "<table border=\"1\" class=\"dataframe\">\n",
              "  <thead>\n",
              "    <tr style=\"text-align: right;\">\n",
              "      <th></th>\n",
              "      <th>id</th>\n",
              "      <th>target</th>\n",
              "    </tr>\n",
              "  </thead>\n",
              "  <tbody>\n",
              "    <tr>\n",
              "      <th>count</th>\n",
              "      <td>7613.000000</td>\n",
              "      <td>7613.00000</td>\n",
              "    </tr>\n",
              "    <tr>\n",
              "      <th>mean</th>\n",
              "      <td>5441.934848</td>\n",
              "      <td>0.42966</td>\n",
              "    </tr>\n",
              "    <tr>\n",
              "      <th>std</th>\n",
              "      <td>3137.116090</td>\n",
              "      <td>0.49506</td>\n",
              "    </tr>\n",
              "    <tr>\n",
              "      <th>min</th>\n",
              "      <td>1.000000</td>\n",
              "      <td>0.00000</td>\n",
              "    </tr>\n",
              "    <tr>\n",
              "      <th>25%</th>\n",
              "      <td>2734.000000</td>\n",
              "      <td>0.00000</td>\n",
              "    </tr>\n",
              "    <tr>\n",
              "      <th>50%</th>\n",
              "      <td>5408.000000</td>\n",
              "      <td>0.00000</td>\n",
              "    </tr>\n",
              "    <tr>\n",
              "      <th>75%</th>\n",
              "      <td>8146.000000</td>\n",
              "      <td>1.00000</td>\n",
              "    </tr>\n",
              "    <tr>\n",
              "      <th>max</th>\n",
              "      <td>10873.000000</td>\n",
              "      <td>1.00000</td>\n",
              "    </tr>\n",
              "  </tbody>\n",
              "</table>\n",
              "</div>\n",
              "      <button class=\"colab-df-convert\" onclick=\"convertToInteractive('df-7b83dc8f-e865-4eae-bcd6-fa19449cfcba')\"\n",
              "              title=\"Convert this dataframe to an interactive table.\"\n",
              "              style=\"display:none;\">\n",
              "        \n",
              "  <svg xmlns=\"http://www.w3.org/2000/svg\" height=\"24px\"viewBox=\"0 0 24 24\"\n",
              "       width=\"24px\">\n",
              "    <path d=\"M0 0h24v24H0V0z\" fill=\"none\"/>\n",
              "    <path d=\"M18.56 5.44l.94 2.06.94-2.06 2.06-.94-2.06-.94-.94-2.06-.94 2.06-2.06.94zm-11 1L8.5 8.5l.94-2.06 2.06-.94-2.06-.94L8.5 2.5l-.94 2.06-2.06.94zm10 10l.94 2.06.94-2.06 2.06-.94-2.06-.94-.94-2.06-.94 2.06-2.06.94z\"/><path d=\"M17.41 7.96l-1.37-1.37c-.4-.4-.92-.59-1.43-.59-.52 0-1.04.2-1.43.59L10.3 9.45l-7.72 7.72c-.78.78-.78 2.05 0 2.83L4 21.41c.39.39.9.59 1.41.59.51 0 1.02-.2 1.41-.59l7.78-7.78 2.81-2.81c.8-.78.8-2.07 0-2.86zM5.41 20L4 18.59l7.72-7.72 1.47 1.35L5.41 20z\"/>\n",
              "  </svg>\n",
              "      </button>\n",
              "      \n",
              "  <style>\n",
              "    .colab-df-container {\n",
              "      display:flex;\n",
              "      flex-wrap:wrap;\n",
              "      gap: 12px;\n",
              "    }\n",
              "\n",
              "    .colab-df-convert {\n",
              "      background-color: #E8F0FE;\n",
              "      border: none;\n",
              "      border-radius: 50%;\n",
              "      cursor: pointer;\n",
              "      display: none;\n",
              "      fill: #1967D2;\n",
              "      height: 32px;\n",
              "      padding: 0 0 0 0;\n",
              "      width: 32px;\n",
              "    }\n",
              "\n",
              "    .colab-df-convert:hover {\n",
              "      background-color: #E2EBFA;\n",
              "      box-shadow: 0px 1px 2px rgba(60, 64, 67, 0.3), 0px 1px 3px 1px rgba(60, 64, 67, 0.15);\n",
              "      fill: #174EA6;\n",
              "    }\n",
              "\n",
              "    [theme=dark] .colab-df-convert {\n",
              "      background-color: #3B4455;\n",
              "      fill: #D2E3FC;\n",
              "    }\n",
              "\n",
              "    [theme=dark] .colab-df-convert:hover {\n",
              "      background-color: #434B5C;\n",
              "      box-shadow: 0px 1px 3px 1px rgba(0, 0, 0, 0.15);\n",
              "      filter: drop-shadow(0px 1px 2px rgba(0, 0, 0, 0.3));\n",
              "      fill: #FFFFFF;\n",
              "    }\n",
              "  </style>\n",
              "\n",
              "      <script>\n",
              "        const buttonEl =\n",
              "          document.querySelector('#df-7b83dc8f-e865-4eae-bcd6-fa19449cfcba button.colab-df-convert');\n",
              "        buttonEl.style.display =\n",
              "          google.colab.kernel.accessAllowed ? 'block' : 'none';\n",
              "\n",
              "        async function convertToInteractive(key) {\n",
              "          const element = document.querySelector('#df-7b83dc8f-e865-4eae-bcd6-fa19449cfcba');\n",
              "          const dataTable =\n",
              "            await google.colab.kernel.invokeFunction('convertToInteractive',\n",
              "                                                     [key], {});\n",
              "          if (!dataTable) return;\n",
              "\n",
              "          const docLinkHtml = 'Like what you see? Visit the ' +\n",
              "            '<a target=\"_blank\" href=https://colab.research.google.com/notebooks/data_table.ipynb>data table notebook</a>'\n",
              "            + ' to learn more about interactive tables.';\n",
              "          element.innerHTML = '';\n",
              "          dataTable['output_type'] = 'display_data';\n",
              "          await google.colab.output.renderOutput(dataTable, element);\n",
              "          const docLink = document.createElement('div');\n",
              "          docLink.innerHTML = docLinkHtml;\n",
              "          element.appendChild(docLink);\n",
              "        }\n",
              "      </script>\n",
              "    </div>\n",
              "  </div>\n",
              "  "
            ]
          },
          "metadata": {},
          "execution_count": 3
        }
      ]
    },
    {
      "cell_type": "code",
      "source": [
        "bars = train_ds.value_counts(\"target\").plot(kind=\"bar\", color=[\"red\", \"green\"])\n",
        "plt.ylabel(\"Number of Tweets\")\n",
        "plt.xlabel(\"Non Disaster Tweets vs Disaster Tweets\")"
      ],
      "metadata": {
        "colab": {
          "base_uri": "https://localhost:8080/",
          "height": 293
        },
        "id": "4iovlIwSnCRH",
        "outputId": "7fb4747c-ebb1-4f36-ae47-2c2ff5d25507"
      },
      "execution_count": 4,
      "outputs": [
        {
          "output_type": "execute_result",
          "data": {
            "text/plain": [
              "Text(0.5, 0, 'Non Disaster Tweets vs Disaster Tweets')"
            ]
          },
          "metadata": {},
          "execution_count": 4
        },
        {
          "output_type": "display_data",
          "data": {
            "text/plain": [
              "<Figure size 432x288 with 1 Axes>"
            ],
            "image/png": "[encoded data removed]"
          },
          "metadata": {
            "needs_background": "light"
          }
        }
      ]
    },
    {
      "cell_type": "code",
      "source": [
        "#Remove URLs\n",
        "def rem_URL(text):\n",
        "  url = re.compile(\"https?://\\S+|www\\.\\S+\")\n",
        "  return url.sub(\"\", text)\n",
        "\n",
        "#Remove Punctuation\n",
        "def rem_punc(text):\n",
        "  translator = str.maketrans(\"\", \"\", string.punctuation)\n",
        "  return text.translate(translator)"
      ],
      "metadata": {
        "id": "Jt_Jucz0pG6K"
      },
      "execution_count": 5,
      "outputs": []
    },
    {
      "cell_type": "code",
      "source": [
        "#Remove stopwords\n",
        "nltk.download(\"stopwords\")\n",
        "\n",
        "stop = set(stopwords.words(\"english\"))\n",
        "\n",
        "def rem_stopwords(text):\n",
        "  filtered_words = [word.lower() for word in text.split() if word.lower() not in stop]\n",
        "  return \" \".join(filtered_words)"
      ],
      "metadata": {
        "colab": {
          "base_uri": "https://localhost:8080/"
        },
        "id": "p48I4kUmtkpH",
        "outputId": "14692eed-7a61-4882-8561-cda6e94f1123"
      },
      "execution_count": 6,
      "outputs": [
        {
          "output_type": "stream",
          "name": "stdout",
          "text": [
            "[nltk_data] Downloading package stopwords to /root/nltk_data...\n",
            "[nltk_data]   Unzipping corpora/stopwords.zip.\n"
          ]
        }
      ]
    },
    {
      "cell_type": "code",
      "source": [
        "def count_df(df):\n",
        "  counter = Counter()\n",
        "\n",
        "  for i in df:\n",
        "    for w in i.split():\n",
        "      counter[w] += 1\n",
        "\n",
        "  return counter"
      ],
      "metadata": {
        "id": "VChJB53zuKkz"
      },
      "execution_count": 7,
      "outputs": []
    },
    {
      "cell_type": "code",
      "source": [
        "# Applying different operations on the text\n",
        "train_ds[\"text\"] = train_ds.text.map(rem_URL)\n",
        "train_ds[\"text\"] = train_ds.text.map(rem_punc)\n",
        "train_ds[\"text\"] = train_ds.text.map(rem_stopwords)"
      ],
      "metadata": {
        "id": "KRtMpjUduwc3"
      },
      "execution_count": 8,
      "outputs": []
    },
    {
      "cell_type": "code",
      "source": [
        "#Most Common Words Graphs\n",
        "most_common_text = count_df(train_ds[\"text\"]).most_common(10)\n",
        "most_common_text_items, most_common_text_values = zip(*most_common_text)\n",
        "\n",
        "plt.bar(most_common_text_items, most_common_text_values)\n",
        "plt.title(\"Most Common Words in the Dataset (Stopwords not included)\")\n",
        "plt.xlabel(\"Words\")\n",
        "plt.ylabel(\"Word Count\")"
      ],
      "metadata": {
        "colab": {
          "base_uri": "https://localhost:8080/",
          "height": 312
        },
        "id": "0LXXsof_vTAE",
        "outputId": "0008889b-5a52-4894-a107-2e52fb990589"
      },
      "execution_count": 10,
      "outputs": [
        {
          "output_type": "execute_result",
          "data": {
            "text/plain": [
              "Text(0, 0.5, 'Word Count')"
            ]
          },
          "metadata": {},
          "execution_count": 10
        },
        {
          "output_type": "display_data",
          "data": {
            "text/plain": [
              "<Figure size 432x288 with 1 Axes>"
            ],
            "image/png": "[encoded data removed]"
          },
          "metadata": {
            "needs_background": "light"
          }
        }
      ]
    },
    {
      "cell_type": "code",
      "source": [
        "#Most Common Words Graphs\n",
        "most_common_text_d = count_df(train_ds.loc[train_ds[\"target\"]==True][\"text\"]).most_common(10)\n",
        "most_common_text_d_items, most_common_text_d_values = zip(*most_common_text_d)\n",
        "\n",
        "plt.bar(most_common_text_d_items, most_common_text_d_values, color='r')\n",
        "plt.title(\"Most Common Words in disaster tweets\")\n",
        "plt.xlabel(\"Words\")\n",
        "plt.ylabel(\"Word Count\")"
      ],
      "metadata": {
        "colab": {
          "base_uri": "https://localhost:8080/",
          "height": 312
        },
        "id": "9oE-1GeHw5bP",
        "outputId": "b36128fe-b288-4970-d883-673472fff1ef"
      },
      "execution_count": 13,
      "outputs": [
        {
          "output_type": "execute_result",
          "data": {
            "text/plain": [
              "Text(0, 0.5, 'Word Count')"
            ]
          },
          "metadata": {},
          "execution_count": 13
        },
        {
          "output_type": "display_data",
          "data": {
            "text/plain": [
              "<Figure size 432x288 with 1 Axes>"
            ],
            "image/png": "[encoded data removed]"
          },
          "metadata": {
            "needs_background": "light"
          }
        }
      ]
    },
    {
      "cell_type": "code",
      "source": [
        "#Most Common Words Graphs\n",
        "most_common_text_d = count_df(train_ds.loc[train_ds[\"target\"]==False][\"text\"]).most_common(10)\n",
        "most_common_text_d_items, most_common_text_d_values = zip(*most_common_text_d)\n",
        "\n",
        "plt.bar(most_common_text_d_items, most_common_text_d_values, color='g')\n",
        "plt.title(\"Most Common Words in disaster tweets\")\n",
        "plt.xlabel(\"Words\")\n",
        "plt.ylabel(\"Word Count\")"
      ],
      "metadata": {
        "colab": {
          "base_uri": "https://localhost:8080/",
          "height": 312
        },
        "id": "BWNMwEAWyKVB",
        "outputId": "297496fb-5787-4c09-e2df-23a6cad73ea1"
      },
      "execution_count": 14,
      "outputs": [
        {
          "output_type": "execute_result",
          "data": {
            "text/plain": [
              "Text(0, 0.5, 'Word Count')"
            ]
          },
          "metadata": {},
          "execution_count": 14
        },
        {
          "output_type": "display_data",
          "data": {
            "text/plain": [
              "<Figure size 432x288 with 1 Axes>"
            ],
            "image/png": "[encoded data removed]"
          },
          "metadata": {
            "needs_background": "light"
          }
        }
      ]
    },
    {
      "cell_type": "code",
      "source": [
        "#Get number of unique words\n",
        "num_unique_words = len(count_df(train_ds[\"text\"]))\n",
        "num_unique_words"
      ],
      "metadata": {
        "colab": {
          "base_uri": "https://localhost:8080/"
        },
        "id": "iAHOgK2PyrKX",
        "outputId": "f25d6a22-03d3-4c99-ed21-c9efe4b13df0"
      },
      "execution_count": 15,
      "outputs": [
        {
          "output_type": "execute_result",
          "data": {
            "text/plain": [
              "17971"
            ]
          },
          "metadata": {},
          "execution_count": 15
        }
      ]
    },
    {
      "cell_type": "code",
      "source": [
        "#Setup data\n",
        "train_size = int(train_ds.shape[0] * 0.8)\n",
        "\n",
        "train_df = train_ds[:train_size]\n",
        "val_df = train_ds[train_size:]\n",
        "\n",
        "train_sentences = train_ds[\"text\"].to_numpy()\n",
        "train_labels = train_ds[\"target\"].to_numpy()\n",
        "val_sentences = val_df[\"text\"].to_numpy()\n",
        "val_labels = val_df[\"target\"].to_numpy()"
      ],
      "metadata": {
        "id": "FCKgXrK2z-Pc"
      },
      "execution_count": 16,
      "outputs": []
    },
    {
      "cell_type": "code",
      "source": [
        "train_sentences.shape, val_sentences.shape"
      ],
      "metadata": {
        "colab": {
          "base_uri": "https://localhost:8080/"
        },
        "id": "wbu-mtnt0ukR",
        "outputId": "5878c2e0-d125-49aa-dcdf-90bfea0caca1"
      },
      "execution_count": 17,
      "outputs": [
        {
          "output_type": "execute_result",
          "data": {
            "text/plain": [
              "((7613,), (1523,))"
            ]
          },
          "metadata": {},
          "execution_count": 17
        }
      ]
    },
    {
      "cell_type": "code",
      "source": [
        "#Tokenization\n",
        "tokenizer = Tokenizer(num_words = num_unique_words)\n",
        "tokenizer.fit_on_texts(train_sentences)"
      ],
      "metadata": {
        "id": "AxBEpczT1BYD"
      },
      "execution_count": 19,
      "outputs": []
    },
    {
      "cell_type": "code",
      "source": [
        "word_index = tokenizer.word_index"
      ],
      "metadata": {
        "id": "CwZpghmo1Tk7"
      },
      "execution_count": 20,
      "outputs": []
    },
    {
      "cell_type": "code",
      "source": [
        "train_sequences = tokenizer.texts_to_sequences(train_sentences)\n",
        "val_sequences = tokenizer.texts_to_sequences(val_sentences)"
      ],
      "metadata": {
        "id": "CjYJSHyG105s"
      },
      "execution_count": 21,
      "outputs": []
    },
    {
      "cell_type": "code",
      "source": [
        "#Padding sequences to make shapes of the arrays equal\n",
        "MAX_LEN = 20\n",
        "\n",
        "train_padded = pad_sequences(train_sequences, maxlen=MAX_LEN, padding=\"post\", truncating=\"post\")\n",
        "val_padded = pad_sequences(val_sequences, maxlen=MAX_LEN, padding=\"post\", truncating=\"post\")\n",
        "\n",
        "train_padded.shape, val_padded.shape"
      ],
      "metadata": {
        "colab": {
          "base_uri": "https://localhost:8080/"
        },
        "id": "pPShgQj22W9b",
        "outputId": "83ef55c3-7db6-4580-a167-832d60df61b9"
      },
      "execution_count": 22,
      "outputs": [
        {
          "output_type": "execute_result",
          "data": {
            "text/plain": [
              "((7613, 20), (1523, 20))"
            ]
          },
          "metadata": {},
          "execution_count": 22
        }
      ]
    },
    {
      "cell_type": "code",
      "source": [
        "#Making Model\n",
        "model = keras.models.Sequential([\n",
        "        layers.Embedding(num_unique_words, 32, input_length=MAX_LEN),\n",
        "        layers.LSTM(64, dropout=0.1),\n",
        "        layers.Dense(1, activation=\"sigmoid\")                  \n",
        "])"
      ],
      "metadata": {
        "id": "YO1JavKs3oML"
      },
      "execution_count": 23,
      "outputs": []
    },
    {
      "cell_type": "code",
      "source": [
        "#Compile Model\n",
        "model.compile(loss=keras.losses.BinaryCrossentropy(from_logits=False),\n",
        "              optimizer=keras.optimizers.Adam(lr=0.01),\n",
        "              metrics=[\"accuracy\"])"
      ],
      "metadata": {
        "colab": {
          "base_uri": "https://localhost:8080/"
        },
        "id": "CCOi-XNE4kWc",
        "outputId": "e2998469-2876-4249-d2fb-b10dfec7ea53"
      },
      "execution_count": 26,
      "outputs": [
        {
          "output_type": "stream",
          "name": "stderr",
          "text": [
            "/usr/local/lib/python3.7/dist-packages/keras/optimizer_v2/adam.py:105: UserWarning: The `lr` argument is deprecated, use `learning_rate` instead.\n",
            "  super(Adam, self).__init__(name, **kwargs)\n"
          ]
        }
      ]
    },
    {
      "cell_type": "code",
      "source": [
        "model.fit(train_padded, train_labels, epochs=20, validation_data=(val_padded, val_labels))"
      ],
      "metadata": {
        "colab": {
          "base_uri": "https://localhost:8080/"
        },
        "id": "0xF2PrkE5BrC",
        "outputId": "39202a0c-6916-4af2-b9a7-00c089c0683e"
      },
      "execution_count": 27,
      "outputs": [
        {
          "output_type": "stream",
          "name": "stdout",
          "text": [
            "Epoch 1/20\n",
            "238/238 [==============================] - 12s 32ms/step - loss: 0.6410 - accuracy: 0.6352 - val_loss: 0.4400 - val_accuracy: 0.8418\n",
            "Epoch 2/20\n",
            "238/238 [==============================] - 7s 29ms/step - loss: 0.4009 - accuracy: 0.8382 - val_loss: 0.2103 - val_accuracy: 0.9409\n",
            "Epoch 3/20\n",
            "238/238 [==============================] - 8s 33ms/step - loss: 0.1969 - accuracy: 0.9316 - val_loss: 0.0991 - val_accuracy: 0.9691\n",
            "Epoch 4/20\n",
            "238/238 [==============================] - 4s 19ms/step - loss: 0.1107 - accuracy: 0.9623 - val_loss: 0.0695 - val_accuracy: 0.9750\n",
            "Epoch 5/20\n",
            "238/238 [==============================] - 4s 18ms/step - loss: 0.0689 - accuracy: 0.9756 - val_loss: 0.0362 - val_accuracy: 0.9856\n",
            "Epoch 6/20\n",
            "238/238 [==============================] - 4s 18ms/step - loss: 0.0560 - accuracy: 0.9775 - val_loss: 0.0304 - val_accuracy: 0.9869\n",
            "Epoch 7/20\n",
            "238/238 [==============================] - 4s 17ms/step - loss: 0.0422 - accuracy: 0.9808 - val_loss: 0.0244 - val_accuracy: 0.9869\n",
            "Epoch 8/20\n",
            "238/238 [==============================] - 4s 18ms/step - loss: 0.0365 - accuracy: 0.9833 - val_loss: 0.0218 - val_accuracy: 0.9882\n",
            "Epoch 9/20\n",
            "238/238 [==============================] - 4s 19ms/step - loss: 0.0348 - accuracy: 0.9838 - val_loss: 0.0205 - val_accuracy: 0.9888\n",
            "Epoch 10/20\n",
            "238/238 [==============================] - 5s 19ms/step - loss: 0.0301 - accuracy: 0.9844 - val_loss: 0.0200 - val_accuracy: 0.9888\n",
            "Epoch 11/20\n",
            "238/238 [==============================] - 4s 18ms/step - loss: 0.0352 - accuracy: 0.9828 - val_loss: 0.0252 - val_accuracy: 0.9862\n",
            "Epoch 12/20\n",
            "238/238 [==============================] - 4s 19ms/step - loss: 0.0371 - accuracy: 0.9829 - val_loss: 0.0205 - val_accuracy: 0.9895\n",
            "Epoch 13/20\n",
            "238/238 [==============================] - 5s 19ms/step - loss: 0.0311 - accuracy: 0.9849 - val_loss: 0.0235 - val_accuracy: 0.9882\n",
            "Epoch 14/20\n",
            "238/238 [==============================] - 4s 19ms/step - loss: 0.0274 - accuracy: 0.9862 - val_loss: 0.0181 - val_accuracy: 0.9895\n",
            "Epoch 15/20\n",
            "238/238 [==============================] - 5s 19ms/step - loss: 0.0272 - accuracy: 0.9852 - val_loss: 0.0181 - val_accuracy: 0.9895\n",
            "Epoch 16/20\n",
            "238/238 [==============================] - 4s 18ms/step - loss: 0.0276 - accuracy: 0.9841 - val_loss: 0.0207 - val_accuracy: 0.9882\n",
            "Epoch 17/20\n",
            "238/238 [==============================] - 4s 18ms/step - loss: 0.0257 - accuracy: 0.9857 - val_loss: 0.0178 - val_accuracy: 0.9888\n",
            "Epoch 18/20\n",
            "238/238 [==============================] - 5s 19ms/step - loss: 0.0249 - accuracy: 0.9857 - val_loss: 0.0176 - val_accuracy: 0.9888\n",
            "Epoch 19/20\n",
            "238/238 [==============================] - 5s 19ms/step - loss: 0.0247 - accuracy: 0.9874 - val_loss: 0.0182 - val_accuracy: 0.9882\n",
            "Epoch 20/20\n",
            "238/238 [==============================] - 4s 19ms/step - loss: 0.0253 - accuracy: 0.9863 - val_loss: 0.0193 - val_accuracy: 0.9882\n"
          ]
        },
        {
          "output_type": "execute_result",
          "data": {
            "text/plain": [
              "<keras.callbacks.History at 0x7f6d598fcf10>"
            ]
          },
          "metadata": {},
          "execution_count": 27
        }
      ]
    },
    {
      "cell_type": "code",
      "source": [
        "#Make Predictions\n",
        "predictions = model.predict(train_padded)\n",
        "predictions = [1 if p>0.5 else 0 for p in predictions]"
      ],
      "metadata": {
        "id": "NECulVVE6qyn"
      },
      "execution_count": 28,
      "outputs": []
    },
    {
      "cell_type": "code",
      "source": [
        "print(train_sentences[10:20])\n",
        "print(train_labels[10:20])\n",
        "print(predictions[10:20])"
      ],
      "metadata": {
        "colab": {
          "base_uri": "https://localhost:8080/"
        },
        "id": "8MAikxtr7UEZ",
        "outputId": "c89f06f1-9cc2-430b-bd33-70988c33a1e9"
      },
      "execution_count": 29,
      "outputs": [
        {
          "output_type": "stream",
          "name": "stdout",
          "text": [
            "['three people died heat wave far'\n",
            " 'haha south tampa getting flooded hah wait second live south tampa gonna gonna fvck flooding'\n",
            " 'raining flooding florida tampabay tampa 18 19 days ive lost count'\n",
            " 'flood bago myanmar arrived bago'\n",
            " 'damage school bus 80 multi car crash breaking' 'whats man' 'love fruits'\n",
            " 'summer lovely' 'car fast' 'goooooooaaaaaal']\n",
            "[1 1 1 1 1 0 0 0 0 0]\n",
            "[1, 1, 1, 1, 1, 0, 0, 0, 1, 0]\n"
          ]
        }
      ]
    },
    {
      "cell_type": "code",
      "source": [
        "#Generate Final Submission\n",
        "#Manipulating the testing data to make it readable for the model\n",
        "\n",
        "test_ds[\"text\"] = test_ds.text.map(rem_URL)\n",
        "test_ds[\"text\"] = test_ds.text.map(rem_punc)\n",
        "test_ds[\"text\"] = test_ds.text.map(rem_stopwords)\n",
        "text_sequences = tokenizer.texts_to_sequences(test_ds[\"text\"])\n",
        "text_padded = pad_sequences(text_sequences, maxlen=MAX_LEN, padding=\"post\", truncating=\"post\")"
      ],
      "metadata": {
        "id": "BMk_dYlR7YSU"
      },
      "execution_count": 30,
      "outputs": []
    },
    {
      "cell_type": "code",
      "source": [
        "len(text_padded) == len(test_ds)"
      ],
      "metadata": {
        "colab": {
          "base_uri": "https://localhost:8080/"
        },
        "id": "jNX8KfUQ72Bo",
        "outputId": "5762b497-bd69-4fec-f237-00dbe61350c2"
      },
      "execution_count": 31,
      "outputs": [
        {
          "output_type": "execute_result",
          "data": {
            "text/plain": [
              "True"
            ]
          },
          "metadata": {},
          "execution_count": 31
        }
      ]
    },
    {
      "cell_type": "code",
      "source": [
        "# Feeding the data!\n",
        "predictions = np.round(model.predict(text_padded))\n",
        "predictions = [0 if i == 1 else 1 for i in predictions]\n",
        "\n",
        "submission = pd.DataFrame(test_ds['id'])\n",
        "submission['target'] = predictions\n",
        "\n",
        "len(submission) == len(text_padded) == len(test_ds)\n",
        "submission.to_csv('Output.csv', index=False)"
      ],
      "metadata": {
        "id": "6gRFwKz476q0"
      },
      "execution_count": 32,
      "outputs": []
    }
  ]
}