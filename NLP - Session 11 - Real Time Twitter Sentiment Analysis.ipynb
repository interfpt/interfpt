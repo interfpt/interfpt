{
 "cells": [
  {
   "cell_type": "markdown",
   "metadata": {},
   "source": [
    "# NLP - Session 11 - Real Time Twitter Sentiment Analysis"
   ]
  },
  {
   "cell_type": "markdown",
   "metadata": {},
   "source": [
    "Need access to Twitter API.\n",
    "\n",
    "https://developer.twitter.com/app/new"
   ]
  },
  {
   "cell_type": "markdown",
   "metadata": {},
   "source": [
    "Install tweepy\n",
    "\n",
    "`!pip install tweepy` or `conda install --name tensorflow20 -c conda-forge tweepy`"
   ]
  },
  {
   "cell_type": "code",
   "execution_count": null,
   "metadata": {},
   "outputs": [],
   "source": [
    "import tweepy"
   ]
  },
  {
   "cell_type": "code",
   "execution_count": null,
   "metadata": {},
   "outputs": [],
   "source": [
    "auth = tweepy.OAuthHandler(consumer_key, consumer_secret)\n",
    "auth.set_access_token(access_token, access_token_secret)"
   ]
  },
  {
   "cell_type": "code",
   "execution_count": null,
   "metadata": {},
   "outputs": [],
   "source": [
    "api = tweepy.API(auth)"
   ]
  },
  {
   "cell_type": "markdown",
   "metadata": {},
   "source": [
    "## Get my timeline tweets"
   ]
  },
  {
   "cell_type": "code",
   "execution_count": null,
   "metadata": {},
   "outputs": [],
   "source": [
    "tweets = api.home_timeline()"
   ]
  },
  {
   "cell_type": "code",
   "execution_count": null,
   "metadata": {},
   "outputs": [],
   "source": [
    "tweets"
   ]
  },
  {
   "cell_type": "code",
   "execution_count": null,
   "metadata": {},
   "outputs": [],
   "source": [
    "for tweet in tweets:\n",
    "    print(tweet.text)"
   ]
  },
  {
   "cell_type": "markdown",
   "metadata": {},
   "source": [
    "## Get tweet stream and do sentiment analysis"
   ]
  },
  {
   "cell_type": "code",
   "execution_count": null,
   "metadata": {},
   "outputs": [],
   "source": [
    "import json\n",
    "\n",
    "from textblob import TextBlob\n",
    "from tweepy import Stream, StreamListener"
   ]
  },
  {
   "cell_type": "code",
   "execution_count": null,
   "metadata": {},
   "outputs": [],
   "source": [
    "import csv\n",
    "import re"
   ]
  },
  {
   "cell_type": "markdown",
   "metadata": {},
   "source": [
    "## Create Listener"
   ]
  },
  {
   "cell_type": "code",
   "execution_count": null,
   "metadata": {},
   "outputs": [],
   "source": [
    "trump = 0\n",
    "biden = 0\n",
    "\n",
    "header_name = [\"Trump\", \"Biden\"]\n",
    "\n",
    "with open(\"data\\tweeter-real_time-sentiment.csv\", \"w\") as file:\n",
    "    writer = csv.DictWriter(file, fieldnames=header_name)\n",
    "    writer.writeheader()\n",
    "\n",
    "\n",
    "class Listener(StreamListener):\n",
    "    def on_data(self, data):\n",
    "        raw_tweets = json.loads(data)\n",
    "        try:\n",
    "            tweets = raw_tweets[\"text\"]\n",
    "\n",
    "            # Removing Emojis, Links and User Tags\n",
    "            tweets = \" \".join(\n",
    "                re.sub(\n",
    "                    \"(@[A-Za-z0-9]+)|([^0-9A-Za-z \\t])|(\\w+:\\/\\/\\s+)\", \" \", tweets\n",
    "                ).split()\n",
    "            )\n",
    "            tweets = \" \".join(re.sub(\"RT\", \" \", tweets).split())\n",
    "\n",
    "            blob = TextBlob(tweets.strip())\n",
    "\n",
    "            global trump\n",
    "            global biden\n",
    "\n",
    "            trump_sentiment = 0\n",
    "            biden_sentiment = 0\n",
    "\n",
    "            for sent in blob.sentences:\n",
    "                if \"Trump\" in sent and \"Biden\" not in sent:\n",
    "                    trump_sentiment = trump_sentiment + sent.sentiment.polarity\n",
    "                else:\n",
    "                    biden_sentiment = biden_sentiment + sent.sentiment.polarity\n",
    "\n",
    "            trump = trump + trump_sentiment\n",
    "            biden = biden + biden_sentiment\n",
    "\n",
    "            with open(\"data\\tweeter-real_time-sentiment.csv\", \"a\") as file:\n",
    "                writer = csv.DictWriter(file, fieldnames=header_name)\n",
    "                now = datetime.now()\n",
    "                info = {\"Time\": now, \"Trump\": trump, \"Biden\": biden}\n",
    "\n",
    "                writer.writerow(info)\n",
    "\n",
    "            print(tweets)\n",
    "            print()\n",
    "        except:\n",
    "            print(\"Error! Run again!\")\n",
    "\n",
    "    def on_error(self, status):\n",
    "        print(status)"
   ]
  },
  {
   "cell_type": "code",
   "execution_count": null,
   "metadata": {},
   "outputs": [],
   "source": [
    "twitter_stream = Stream(auth, Listener())\n",
    "twitter_stream.filter(track=[\"Trump\", \"Bidden\"])"
   ]
  },
  {
   "cell_type": "markdown",
   "metadata": {},
   "source": [
    "## Plot Graphs\n",
    "\n",
    "Ploting the graph needs to be a separate python job as the above process is contineous it will never execute this. So if running take the below plot code and run it as a seperate job where it will continue reading the above csv and keep updating the graph"
   ]
  },
  {
   "cell_type": "code",
   "execution_count": null,
   "metadata": {},
   "outputs": [],
   "source": [
    "from itertools import count\n",
    "import pandas as pd\n",
    "import matplotlib.pyplot as plt\n",
    "\n",
    "from matplotlib.animation import FuncAnimation\n",
    "%matplotlib notebook # Makes sure real time graph is plotted on Jupyter notebook."
   ]
  },
  {
   "cell_type": "code",
   "execution_count": null,
   "metadata": {},
   "outputs": [],
   "source": [
    "plt.style.use(\"fivethirtyeight\")"
   ]
  },
  {
   "cell_type": "code",
   "execution_count": null,
   "metadata": {},
   "outputs": [],
   "source": [
    "frame_len = 10000\n",
    "\n",
    "fig = plt.figure(figsize=(9, 6))\n",
    "\n",
    "\n",
    "def animate(i):\n",
    "    data = pd.read_csv(\"data\\tweeter-real_time-sentiment.csv\")\n",
    "    x = data[\"Time\"]\n",
    "    y1 = data[\"Trump\"]\n",
    "    y2 = data[\"Biden\"]\n",
    "\n",
    "    if len(y1) <= frame_len:\n",
    "        plt.cla()\n",
    "        plt.plot(y1, label=\"Donald J Trump\")\n",
    "        plt.plot(y2, label=\"Joe R Biden\")\n",
    "    else:\n",
    "        plt.cla()\n",
    "        plt.plot(y1[-frame_len:], label=\"Donald J Trump\")\n",
    "        plt.plot(y2[-frame_len:], label=\"Joe R Biden\")\n",
    "\n",
    "    plt.legend(loc=\"upper left\")\n",
    "    plt.tight_layout()\n",
    "\n",
    "\n",
    "ani = FuncAnimation(plt.gcf(), animate, interval=1000)"
   ]
  }
 ],
 "metadata": {
  "kernelspec": {
   "display_name": "Python 3",
   "language": "python",
   "name": "python3"
  },
  "language_info": {
   "codemirror_mode": {
    "name": "ipython",
    "version": 3
   },
   "file_extension": ".py",
   "mimetype": "text/x-python",
   "name": "python",
   "nbconvert_exporter": "python",
   "pygments_lexer": "ipython3",
   "version": "3.7.9"
  }
 },
 "nbformat": 4,
 "nbformat_minor": 4
}
