{
  "nbformat": 4,
  "nbformat_minor": 0,
  "metadata": {
    "colab": {
      "name": "NLP - Session 19 - Word2Vec IMDB Sentiment Analysis.ipynb",
      "provenance": [],
      "authorship_tag": "ABX9TyMOWkwuM0Y3l6fGUkizPunt",
      "include_colab_link": true
    },
    "kernelspec": {
      "name": "python3",
      "display_name": "Python 3"
    },
    "language_info": {
      "name": "python"
    }
  },
  "cells": [
    {
      "cell_type": "markdown",
      "metadata": {
        "id": "view-in-github",
        "colab_type": "text"
      },
      "source": [
        "<a href=\"https://colab.research.google.com/github/sahug/ds-nlp/blob/main/NLP%20-%20Session%2019%20-%20Word2Vec%20IMDB%20Sentiment%20Analysis.ipynb\" target=\"_parent\"><img src=\"https://colab.research.google.com/assets/colab-badge.svg\" alt=\"Open In Colab\"/></a>"
      ]
    },
    {
      "cell_type": "markdown",
      "source": [
        "**NLP - Session 19 - Word2Vec IMDB Sentiment Analysis**"
      ],
      "metadata": {
        "id": "wW7kDIV5wim8"
      }
    },
    {
      "cell_type": "code",
      "execution_count": 1,
      "metadata": {
        "id": "PseYmkxSpnkp"
      },
      "outputs": [],
      "source": [
        "import pandas as pd\n",
        "import seaborn as sns"
      ]
    },
    {
      "cell_type": "code",
      "source": [
        "labeled_df = pd.read_csv(\"/content/labeledTrainData.tsv\", sep=\"\\t\")\n",
        "# test_df = pd.read_csv(\"/content/testData.tsv\", sep=\"\\t\")\n",
        "# unlabeled_df = pd.read_csv(\"/content/unlabeledTrainData.tsv\", sep=\"\\t\", on_bad_lines='skip')"
      ],
      "metadata": {
        "id": "xFPoYT35wm9Q"
      },
      "execution_count": 2,
      "outputs": []
    },
    {
      "cell_type": "code",
      "source": [
        "labeled_df.columns"
      ],
      "metadata": {
        "id": "-DzdvM1Jxr6B"
      },
      "execution_count": null,
      "outputs": []
    },
    {
      "cell_type": "code",
      "source": [
        "labeled_df.describe"
      ],
      "metadata": {
        "colab": {
          "base_uri": "https://localhost:8080/"
        },
        "id": "FcuFYqcAyS4z",
        "outputId": "7f02e618-f13f-4206-cf2e-5831e082e838"
      },
      "execution_count": 4,
      "outputs": [
        {
          "output_type": "execute_result",
          "data": {
            "text/plain": [
              "<bound method NDFrame.describe of             id  sentiment                                             review\n",
              "0       5814_8          1  With all this stuff going down at the moment w...\n",
              "1       2381_9          1  \\The Classic War of the Worlds\\\" by Timothy Hi...\n",
              "2       7759_3          0  The film starts with a manager (Nicholas Bell)...\n",
              "3       3630_4          0  It must be assumed that those who praised this...\n",
              "4       9495_8          1  Superbly trashy and wondrously unpretentious 8...\n",
              "...        ...        ...                                                ...\n",
              "24995   3453_3          0  It seems like more consideration has gone into...\n",
              "24996   5064_1          0  I don't believe they made this film. Completel...\n",
              "24997  10905_3          0  Guy is a loser. Can't get girls, needs to buil...\n",
              "24998  10194_3          0  This 30 minute documentary Buñuel made in the ...\n",
              "24999   8478_8          1  I saw this movie as a child and it broke my he...\n",
              "\n",
              "[25000 rows x 3 columns]>"
            ]
          },
          "metadata": {},
          "execution_count": 4
        }
      ]
    },
    {
      "cell_type": "code",
      "source": [
        "labeled_df.sentiment.isnull().sum(), labeled_df.review.isnull().sum()"
      ],
      "metadata": {
        "colab": {
          "base_uri": "https://localhost:8080/"
        },
        "id": "ZtCoMFyMzeYy",
        "outputId": "0f0bcbae-4394-48d3-a718-57fc3e6d0362"
      },
      "execution_count": 5,
      "outputs": [
        {
          "output_type": "execute_result",
          "data": {
            "text/plain": [
              "(0, 0)"
            ]
          },
          "metadata": {},
          "execution_count": 5
        }
      ]
    },
    {
      "cell_type": "code",
      "source": [
        "sns.countplot(x=labeled_df[\"sentiment\"], data=labeled_df)"
      ],
      "metadata": {
        "colab": {
          "base_uri": "https://localhost:8080/",
          "height": 296
        },
        "id": "FvftWoRMyirn",
        "outputId": "bf4022c2-6f07-4b04-ffb3-5feec3cbd2e2"
      },
      "execution_count": 6,
      "outputs": [
        {
          "output_type": "execute_result",
          "data": {
            "text/plain": [
              "<matplotlib.axes._subplots.AxesSubplot at 0x7f6ceee69cd0>"
            ]
          },
          "metadata": {},
          "execution_count": 6
        },
        {
          "output_type": "display_data",
          "data": {
            "text/plain": [
              "<Figure size 432x288 with 1 Axes>"
            ],
            "image/png": "[encoded data removed]"
          },
          "metadata": {
            "needs_background": "light"
          }
        }
      ]
    },
    {
      "cell_type": "markdown",
      "source": [
        "**Data Preprocessing**"
      ],
      "metadata": {
        "id": "7lxlPfTwzudH"
      }
    },
    {
      "cell_type": "code",
      "source": [
        "!pip install gensim"
      ],
      "metadata": {
        "colab": {
          "base_uri": "https://localhost:8080/"
        },
        "id": "dYeCZRxIz-xQ",
        "outputId": "f233f5ee-dd78-473a-ef62-17831d527512"
      },
      "execution_count": 7,
      "outputs": [
        {
          "output_type": "stream",
          "name": "stdout",
          "text": [
            "Requirement already satisfied: gensim in /usr/local/lib/python3.7/dist-packages (3.6.0)\n",
            "Requirement already satisfied: numpy>=1.11.3 in /usr/local/lib/python3.7/dist-packages (from gensim) (1.21.5)\n",
            "Requirement already satisfied: scipy>=0.18.1 in /usr/local/lib/python3.7/dist-packages (from gensim) (1.4.1)\n",
            "Requirement already satisfied: smart-open>=1.2.1 in /usr/local/lib/python3.7/dist-packages (from gensim) (5.2.1)\n",
            "Requirement already satisfied: six>=1.5.0 in /usr/local/lib/python3.7/dist-packages (from gensim) (1.15.0)\n"
          ]
        }
      ]
    },
    {
      "cell_type": "code",
      "source": [
        "!pip  install contractions"
      ],
      "metadata": {
        "colab": {
          "base_uri": "https://localhost:8080/"
        },
        "id": "FtvrNP4Kcbnt",
        "outputId": "cc30fc5f-b09b-4908-b382-9eb7ea99ebd4"
      },
      "execution_count": 8,
      "outputs": [
        {
          "output_type": "stream",
          "name": "stdout",
          "text": [
            "Collecting contractions\n",
            "  Downloading contractions-0.1.68-py2.py3-none-any.whl (8.1 kB)\n",
            "Collecting textsearch>=0.0.21\n",
            "  Downloading textsearch-0.0.21-py2.py3-none-any.whl (7.5 kB)\n",
            "Collecting anyascii\n",
            "  Downloading anyascii-0.3.0-py3-none-any.whl (284 kB)\n",
            "\u001b[K     |████████████████████████████████| 284 kB 6.7 MB/s \n",
            "\u001b[?25hCollecting pyahocorasick\n",
            "  Downloading pyahocorasick-1.4.4-cp37-cp37m-manylinux_2_17_x86_64.manylinux2014_x86_64.whl (106 kB)\n",
            "\u001b[K     |████████████████████████████████| 106 kB 58.1 MB/s \n",
            "\u001b[?25hInstalling collected packages: pyahocorasick, anyascii, textsearch, contractions\n",
            "Successfully installed anyascii-0.3.0 contractions-0.1.68 pyahocorasick-1.4.4 textsearch-0.0.21\n"
          ]
        }
      ]
    },
    {
      "cell_type": "code",
      "source": [
        "#Expanding Contraction - Contractions are shortened versions of words or syllables. They are created by removing specific, one or more letters from words.\n",
        "import contractions\n",
        "labeled_df[\"text\"] = [contractions.fix(line) for line in labeled_df[\"review\"]]\n",
        "labeled_df[\"text\"]"
      ],
      "metadata": {
        "colab": {
          "base_uri": "https://localhost:8080/"
        },
        "id": "G3SlYJtzcXB8",
        "outputId": "babd942a-f8e8-4b78-8d36-cbb892ca1ac1"
      },
      "execution_count": 9,
      "outputs": [
        {
          "output_type": "execute_result",
          "data": {
            "text/plain": [
              "0        With all this stuff going down at the moment w...\n",
              "1        \\The Classic War of the Worlds\\\" by Timothy Hi...\n",
              "2        The film starts with a manager (Nicholas Bell)...\n",
              "3        It must be assumed that those who praised this...\n",
              "4        Superbly trashy and wondrously unpretentious 8...\n",
              "                               ...                        \n",
              "24995    It seems like more consideration has gone into...\n",
              "24996    I do not believe they made this film. Complete...\n",
              "24997    Guy is a loser. Cannot get girls, needs to bui...\n",
              "24998    This 30 minute documentary Buñuel made in the ...\n",
              "24999    I saw this movie as a child and it broke my he...\n",
              "Name: text, Length: 25000, dtype: object"
            ]
          },
          "metadata": {},
          "execution_count": 9
        }
      ]
    },
    {
      "cell_type": "code",
      "source": [
        "#Remove Special Characters\n",
        "import re\n",
        "\n",
        "def remove_special_characters(text):\n",
        "  pat = \"[^a-zA-Z0-9.,!?/:;\\\"\\'\\s]\"\n",
        "  return re.sub(pat, \"\", text)\n",
        "\n",
        "labeled_df[\"text\"] = [remove_special_characters(line) for line in labeled_df[\"text\"]] \n",
        "labeled_df[\"text\"]"
      ],
      "metadata": {
        "colab": {
          "base_uri": "https://localhost:8080/"
        },
        "id": "6EHifaFedoEU",
        "outputId": "d2eab2cb-000b-4a35-ddec-935511fb1a85"
      },
      "execution_count": 10,
      "outputs": [
        {
          "output_type": "execute_result",
          "data": {
            "text/plain": [
              "0        With all this stuff going down at the moment w...\n",
              "1        The Classic War of the Worlds\" by Timothy Hine...\n",
              "2        The film starts with a manager Nicholas Bell g...\n",
              "3        It must be assumed that those who praised this...\n",
              "4        Superbly trashy and wondrously unpretentious 8...\n",
              "                               ...                        \n",
              "24995    It seems like more consideration has gone into...\n",
              "24996    I do not believe they made this film. Complete...\n",
              "24997    Guy is a loser. Cannot get girls, needs to bui...\n",
              "24998    This 30 minute documentary Buuel made in the e...\n",
              "24999    I saw this movie as a child and it broke my he...\n",
              "Name: text, Length: 25000, dtype: object"
            ]
          },
          "metadata": {},
          "execution_count": 10
        }
      ]
    },
    {
      "cell_type": "code",
      "source": [
        "# Remove Numbers\n",
        "import re\n",
        "\n",
        "# function to remove numbers\n",
        "def remove_numbers(text):\n",
        "    # define the pattern to keep\n",
        "    pattern = r'[^a-zA-z.,!?/:;\\\"\\'\\s]' \n",
        "    return re.sub(pattern, '', text)\n",
        "\n",
        "labeled_df[\"text\"] = [remove_numbers(line) for line in labeled_df[\"text\"]] \n",
        "labeled_df[\"text\"]"
      ],
      "metadata": {
        "colab": {
          "base_uri": "https://localhost:8080/"
        },
        "id": "KPjLh8T3egxE",
        "outputId": "34284902-8157-41fa-dcaf-1d245a6865c2"
      },
      "execution_count": 11,
      "outputs": [
        {
          "output_type": "execute_result",
          "data": {
            "text/plain": [
              "0        With all this stuff going down at the moment w...\n",
              "1        The Classic War of the Worlds\" by Timothy Hine...\n",
              "2        The film starts with a manager Nicholas Bell g...\n",
              "3        It must be assumed that those who praised this...\n",
              "4        Superbly trashy and wondrously unpretentious '...\n",
              "                               ...                        \n",
              "24995    It seems like more consideration has gone into...\n",
              "24996    I do not believe they made this film. Complete...\n",
              "24997    Guy is a loser. Cannot get girls, needs to bui...\n",
              "24998    This  minute documentary Buuel made in the ear...\n",
              "24999    I saw this movie as a child and it broke my he...\n",
              "Name: text, Length: 25000, dtype: object"
            ]
          },
          "metadata": {},
          "execution_count": 11
        }
      ]
    },
    {
      "cell_type": "code",
      "source": [
        "#Remove Punctuation\n",
        "import string\n",
        "\n",
        "def remove_punctuation(text):\n",
        "  text = \"\".join([c for c in text if c not in string.punctuation])\n",
        "  return text\n",
        "\n",
        "labeled_df[\"text\"] = [remove_punctuation(line) for line in labeled_df[\"text\"]] \n",
        "labeled_df[\"text\"]"
      ],
      "metadata": {
        "colab": {
          "base_uri": "https://localhost:8080/"
        },
        "id": "8VNH_K3yfCC5",
        "outputId": "d0f60052-e812-4b6d-ae2a-c866a4f98ca3"
      },
      "execution_count": 12,
      "outputs": [
        {
          "output_type": "execute_result",
          "data": {
            "text/plain": [
              "0        With all this stuff going down at the moment w...\n",
              "1        The Classic War of the Worlds by Timothy Hines...\n",
              "2        The film starts with a manager Nicholas Bell g...\n",
              "3        It must be assumed that those who praised this...\n",
              "4        Superbly trashy and wondrously unpretentious s...\n",
              "                               ...                        \n",
              "24995    It seems like more consideration has gone into...\n",
              "24996    I do not believe they made this film Completel...\n",
              "24997    Guy is a loser Cannot get girls needs to build...\n",
              "24998    This  minute documentary Buuel made in the ear...\n",
              "24999    I saw this movie as a child and it broke my he...\n",
              "Name: text, Length: 25000, dtype: object"
            ]
          },
          "metadata": {},
          "execution_count": 12
        }
      ]
    },
    {
      "cell_type": "code",
      "source": [
        "#Remove Whitespace and Tabs\n",
        "import re\n",
        "\n",
        "def remove_extra_whitespace_tabs(text):\n",
        "  pattern = \"^\\s*|\\s\\s*\"\n",
        "  return re.sub(pattern, \" \", text).strip()\n",
        "\n",
        "labeled_df[\"text\"] = [remove_extra_whitespace_tabs(line) for line in labeled_df[\"text\"]] \n",
        "labeled_df[\"text\"]"
      ],
      "metadata": {
        "colab": {
          "base_uri": "https://localhost:8080/"
        },
        "id": "DLLyhUVpfVnj",
        "outputId": "6097c1b8-3888-42ed-cccc-428978f4eefa"
      },
      "execution_count": 13,
      "outputs": [
        {
          "output_type": "execute_result",
          "data": {
            "text/plain": [
              "0        With all this stuff going down at the moment w...\n",
              "1        The Classic War of the Worlds by Timothy Hines...\n",
              "2        The film starts with a manager Nicholas Bell g...\n",
              "3        It must be assumed that those who praised this...\n",
              "4        Superbly trashy and wondrously unpretentious s...\n",
              "                               ...                        \n",
              "24995    It seems like more consideration has gone into...\n",
              "24996    I do not believe they made this film Completel...\n",
              "24997    Guy is a loser Cannot get girls needs to build...\n",
              "24998    This minute documentary Buuel made in the earl...\n",
              "24999    I saw this movie as a child and it broke my he...\n",
              "Name: text, Length: 25000, dtype: object"
            ]
          },
          "metadata": {},
          "execution_count": 13
        }
      ]
    },
    {
      "cell_type": "code",
      "source": [
        "#Tokenization\n",
        "from gensim.utils import simple_preprocess\n",
        "labeled_df[\"text\"] = [simple_preprocess(line, deacc=True) for line in labeled_df[\"text\"]]\n",
        "labeled_df[\"text\"]"
      ],
      "metadata": {
        "id": "lbB9DijUDfV3",
        "colab": {
          "base_uri": "https://localhost:8080/"
        },
        "outputId": "c90a6096-8553-45ec-8d6a-ca8358591a1b"
      },
      "execution_count": 14,
      "outputs": [
        {
          "output_type": "execute_result",
          "data": {
            "text/plain": [
              "0        [with, all, this, stuff, going, down, at, the,...\n",
              "1        [the, classic, war, of, the, worlds, by, timot...\n",
              "2        [the, film, starts, with, manager, nicholas, b...\n",
              "3        [it, must, be, assumed, that, those, who, prai...\n",
              "4        [superbly, trashy, and, wondrously, unpretenti...\n",
              "                               ...                        \n",
              "24995    [it, seems, like, more, consideration, has, go...\n",
              "24996    [do, not, believe, they, made, this, film, com...\n",
              "24997    [guy, is, loser, cannot, get, girls, needs, to...\n",
              "24998    [this, minute, documentary, buuel, made, in, t...\n",
              "24999    [saw, this, movie, as, child, and, it, broke, ...\n",
              "Name: text, Length: 25000, dtype: object"
            ]
          },
          "metadata": {},
          "execution_count": 14
        }
      ]
    },
    {
      "cell_type": "code",
      "source": [
        "#Remove Stopwords\n",
        "import nltk\n",
        "from nltk.corpus import stopwords\n",
        "from nltk.tokenize import word_tokenize\n",
        "\n",
        "nltk.download('stopwords')\n",
        "stop_words = set(stopwords.words('english'))\n",
        "\n",
        "labeled_df[\"text\"] = [[word for word in tokens if word not in stop_words] for tokens in labeled_df[\"text\"]]\n",
        "labeled_df[\"text\"]"
      ],
      "metadata": {
        "colab": {
          "base_uri": "https://localhost:8080/"
        },
        "id": "Yu3aPm_oslrd",
        "outputId": "2dbb55e2-81fa-4950-d211-8639f40d6b85"
      },
      "execution_count": 19,
      "outputs": [
        {
          "output_type": "stream",
          "name": "stdout",
          "text": [
            "[nltk_data] Downloading package stopwords to /root/nltk_data...\n",
            "[nltk_data]   Unzipping corpora/stopwords.zip.\n"
          ]
        },
        {
          "output_type": "execute_result",
          "data": {
            "text/plain": [
              "0        [stuff, going, moment, mj, started, listening,...\n",
              "1        [classic, war, worlds, timothy, hines, enterta...\n",
              "2        [film, starts, manager, nicholas, bell, giving...\n",
              "3        [must, assumed, praised, film, greatest, filme...\n",
              "4        [superbly, trashy, wondrously, unpretentious, ...\n",
              "                               ...                        \n",
              "24995    [seems, like, consideration, gone, imdb, revie...\n",
              "24996    [believe, made, film, completely, unnecessary,...\n",
              "24997    [guy, loser, cannot, get, girls, needs, build,...\n",
              "24998    [minute, documentary, buuel, made, early, one,...\n",
              "24999    [saw, movie, child, broke, heart, story, unfin...\n",
              "Name: text, Length: 25000, dtype: object"
            ]
          },
          "metadata": {},
          "execution_count": 19
        }
      ]
    },
    {
      "cell_type": "code",
      "source": [
        "#Stemming\n",
        "# import nltk\n",
        "# porter_stemmer = nltk.porter.PorterStemmer()\n",
        "# labeled_df[\"text\"] = [[porter_stemmer.stem(word) for word in tokens] for tokens in labeled_df[\"text\"]]\n",
        "# labeled_df[\"text\"]"
      ],
      "metadata": {
        "id": "uN6hZ2YQ1eYt"
      },
      "execution_count": 20,
      "outputs": []
    },
    {
      "cell_type": "code",
      "source": [
        "#Lemmantization\n",
        "from nltk.stem import WordNetLemmatizer\n",
        "nltk.download('wordnet')\n",
        "lemmatizer = WordNetLemmatizer()\n",
        "labeled_df[\"text\"] = [[lemmatizer.lemmatize(word) for word in tokens] for tokens in labeled_df[\"text\"]]\n",
        "labeled_df[\"text\"]"
      ],
      "metadata": {
        "colab": {
          "base_uri": "https://localhost:8080/"
        },
        "id": "aByqPUs43C5a",
        "outputId": "338f979d-b0cd-49a7-e1bb-e06aa0c64a62"
      },
      "execution_count": 21,
      "outputs": [
        {
          "output_type": "stream",
          "name": "stdout",
          "text": [
            "[nltk_data] Downloading package wordnet to /root/nltk_data...\n",
            "[nltk_data]   Unzipping corpora/wordnet.zip.\n"
          ]
        },
        {
          "output_type": "execute_result",
          "data": {
            "text/plain": [
              "0        [stuff, going, moment, mj, started, listening,...\n",
              "1        [classic, war, world, timothy, hines, entertai...\n",
              "2        [film, start, manager, nicholas, bell, giving,...\n",
              "3        [must, assumed, praised, film, greatest, filme...\n",
              "4        [superbly, trashy, wondrously, unpretentious, ...\n",
              "                               ...                        \n",
              "24995    [seems, like, consideration, gone, imdb, revie...\n",
              "24996    [believe, made, film, completely, unnecessary,...\n",
              "24997    [guy, loser, cannot, get, girl, need, build, p...\n",
              "24998    [minute, documentary, buuel, made, early, one,...\n",
              "24999    [saw, movie, child, broke, heart, story, unfin...\n",
              "Name: text, Length: 25000, dtype: object"
            ]
          },
          "metadata": {},
          "execution_count": 21
        }
      ]
    },
    {
      "cell_type": "code",
      "source": [
        "labeled_df.head()"
      ],
      "metadata": {
        "colab": {
          "base_uri": "https://localhost:8080/",
          "height": 206
        },
        "id": "0RqLenGgsPUV",
        "outputId": "bb04e36c-a651-4c25-cdd9-bfc28bc7d993"
      },
      "execution_count": 22,
      "outputs": [
        {
          "output_type": "execute_result",
          "data": {
            "text/plain": [
              "       id  sentiment                                             review  \\\n",
              "0  5814_8          1  With all this stuff going down at the moment w...   \n",
              "1  2381_9          1  \\The Classic War of the Worlds\\\" by Timothy Hi...   \n",
              "2  7759_3          0  The film starts with a manager (Nicholas Bell)...   \n",
              "3  3630_4          0  It must be assumed that those who praised this...   \n",
              "4  9495_8          1  Superbly trashy and wondrously unpretentious 8...   \n",
              "\n",
              "                                                text  \n",
              "0  [stuff, going, moment, mj, started, listening,...  \n",
              "1  [classic, war, world, timothy, hines, entertai...  \n",
              "2  [film, start, manager, nicholas, bell, giving,...  \n",
              "3  [must, assumed, praised, film, greatest, filme...  \n",
              "4  [superbly, trashy, wondrously, unpretentious, ...  "
            ],
            "text/html": [
              "\n",
              "  <div id=\"df-70f51d61-11e9-46c7-9c49-52ecb4afda7c\">\n",
              "    <div class=\"colab-df-container\">\n",
              "      <div>\n",
              "<style scoped>\n",
              "    .dataframe tbody tr th:only-of-type {\n",
              "        vertical-align: middle;\n",
              "    }\n",
              "\n",
              "    .dataframe tbody tr th {\n",
              "        vertical-align: top;\n",
              "    }\n",
              "\n",
              "    .dataframe thead th {\n",
              "        text-align: right;\n",
              "    }\n",
              "</style>\n",
              "<table border=\"1\" class=\"dataframe\">\n",
              "  <thead>\n",
              "    <tr style=\"text-align: right;\">\n",
              "      <th></th>\n",
              "      <th>id</th>\n",
              "      <th>sentiment</th>\n",
              "      <th>review</th>\n",
              "      <th>text</th>\n",
              "    </tr>\n",
              "  </thead>\n",
              "  <tbody>\n",
              "    <tr>\n",
              "      <th>0</th>\n",
              "      <td>5814_8</td>\n",
              "      <td>1</td>\n",
              "      <td>With all this stuff going down at the moment w...</td>\n",
              "      <td>[stuff, going, moment, mj, started, listening,...</td>\n",
              "    </tr>\n",
              "    <tr>\n",
              "      <th>1</th>\n",
              "      <td>2381_9</td>\n",
              "      <td>1</td>\n",
              "      <td>\\The Classic War of the Worlds\\\" by Timothy Hi...</td>\n",
              "      <td>[classic, war, world, timothy, hines, entertai...</td>\n",
              "    </tr>\n",
              "    <tr>\n",
              "      <th>2</th>\n",
              "      <td>7759_3</td>\n",
              "      <td>0</td>\n",
              "      <td>The film starts with a manager (Nicholas Bell)...</td>\n",
              "      <td>[film, start, manager, nicholas, bell, giving,...</td>\n",
              "    </tr>\n",
              "    <tr>\n",
              "      <th>3</th>\n",
              "      <td>3630_4</td>\n",
              "      <td>0</td>\n",
              "      <td>It must be assumed that those who praised this...</td>\n",
              "      <td>[must, assumed, praised, film, greatest, filme...</td>\n",
              "    </tr>\n",
              "    <tr>\n",
              "      <th>4</th>\n",
              "      <td>9495_8</td>\n",
              "      <td>1</td>\n",
              "      <td>Superbly trashy and wondrously unpretentious 8...</td>\n",
              "      <td>[superbly, trashy, wondrously, unpretentious, ...</td>\n",
              "    </tr>\n",
              "  </tbody>\n",
              "</table>\n",
              "</div>\n",
              "      <button class=\"colab-df-convert\" onclick=\"convertToInteractive('df-70f51d61-11e9-46c7-9c49-52ecb4afda7c')\"\n",
              "              title=\"Convert this dataframe to an interactive table.\"\n",
              "              style=\"display:none;\">\n",
              "        \n",
              "  <svg xmlns=\"http://www.w3.org/2000/svg\" height=\"24px\"viewBox=\"0 0 24 24\"\n",
              "       width=\"24px\">\n",
              "    <path d=\"M0 0h24v24H0V0z\" fill=\"none\"/>\n",
              "    <path d=\"M18.56 5.44l.94 2.06.94-2.06 2.06-.94-2.06-.94-.94-2.06-.94 2.06-2.06.94zm-11 1L8.5 8.5l.94-2.06 2.06-.94-2.06-.94L8.5 2.5l-.94 2.06-2.06.94zm10 10l.94 2.06.94-2.06 2.06-.94-2.06-.94-.94-2.06-.94 2.06-2.06.94z\"/><path d=\"M17.41 7.96l-1.37-1.37c-.4-.4-.92-.59-1.43-.59-.52 0-1.04.2-1.43.59L10.3 9.45l-7.72 7.72c-.78.78-.78 2.05 0 2.83L4 21.41c.39.39.9.59 1.41.59.51 0 1.02-.2 1.41-.59l7.78-7.78 2.81-2.81c.8-.78.8-2.07 0-2.86zM5.41 20L4 18.59l7.72-7.72 1.47 1.35L5.41 20z\"/>\n",
              "  </svg>\n",
              "      </button>\n",
              "      \n",
              "  <style>\n",
              "    .colab-df-container {\n",
              "      display:flex;\n",
              "      flex-wrap:wrap;\n",
              "      gap: 12px;\n",
              "    }\n",
              "\n",
              "    .colab-df-convert {\n",
              "      background-color: #E8F0FE;\n",
              "      border: none;\n",
              "      border-radius: 50%;\n",
              "      cursor: pointer;\n",
              "      display: none;\n",
              "      fill: #1967D2;\n",
              "      height: 32px;\n",
              "      padding: 0 0 0 0;\n",
              "      width: 32px;\n",
              "    }\n",
              "\n",
              "    .colab-df-convert:hover {\n",
              "      background-color: #E2EBFA;\n",
              "      box-shadow: 0px 1px 2px rgba(60, 64, 67, 0.3), 0px 1px 3px 1px rgba(60, 64, 67, 0.15);\n",
              "      fill: #174EA6;\n",
              "    }\n",
              "\n",
              "    [theme=dark] .colab-df-convert {\n",
              "      background-color: #3B4455;\n",
              "      fill: #D2E3FC;\n",
              "    }\n",
              "\n",
              "    [theme=dark] .colab-df-convert:hover {\n",
              "      background-color: #434B5C;\n",
              "      box-shadow: 0px 1px 3px 1px rgba(0, 0, 0, 0.15);\n",
              "      filter: drop-shadow(0px 1px 2px rgba(0, 0, 0, 0.3));\n",
              "      fill: #FFFFFF;\n",
              "    }\n",
              "  </style>\n",
              "\n",
              "      <script>\n",
              "        const buttonEl =\n",
              "          document.querySelector('#df-70f51d61-11e9-46c7-9c49-52ecb4afda7c button.colab-df-convert');\n",
              "        buttonEl.style.display =\n",
              "          google.colab.kernel.accessAllowed ? 'block' : 'none';\n",
              "\n",
              "        async function convertToInteractive(key) {\n",
              "          const element = document.querySelector('#df-70f51d61-11e9-46c7-9c49-52ecb4afda7c');\n",
              "          const dataTable =\n",
              "            await google.colab.kernel.invokeFunction('convertToInteractive',\n",
              "                                                     [key], {});\n",
              "          if (!dataTable) return;\n",
              "\n",
              "          const docLinkHtml = 'Like what you see? Visit the ' +\n",
              "            '<a target=\"_blank\" href=https://colab.research.google.com/notebooks/data_table.ipynb>data table notebook</a>'\n",
              "            + ' to learn more about interactive tables.';\n",
              "          element.innerHTML = '';\n",
              "          dataTable['output_type'] = 'display_data';\n",
              "          await google.colab.output.renderOutput(dataTable, element);\n",
              "          const docLink = document.createElement('div');\n",
              "          docLink.innerHTML = docLinkHtml;\n",
              "          element.appendChild(docLink);\n",
              "        }\n",
              "      </script>\n",
              "    </div>\n",
              "  </div>\n",
              "  "
            ]
          },
          "metadata": {},
          "execution_count": 22
        }
      ]
    },
    {
      "cell_type": "code",
      "source": [
        "train_target = labeled_df[\"sentiment\"]\n",
        "train_target"
      ],
      "metadata": {
        "colab": {
          "base_uri": "https://localhost:8080/"
        },
        "id": "v1lNaNsu2nQD",
        "outputId": "b760e0e7-c8d4-47e6-ba1a-ce0fbd0d1fb8"
      },
      "execution_count": 23,
      "outputs": [
        {
          "output_type": "execute_result",
          "data": {
            "text/plain": [
              "0        1\n",
              "1        1\n",
              "2        0\n",
              "3        0\n",
              "4        1\n",
              "        ..\n",
              "24995    0\n",
              "24996    0\n",
              "24997    0\n",
              "24998    0\n",
              "24999    1\n",
              "Name: sentiment, Length: 25000, dtype: int64"
            ]
          },
          "metadata": {},
          "execution_count": 23
        }
      ]
    },
    {
      "cell_type": "code",
      "source": [
        "train_feature = labeled_df.drop([\"id\", \"review\", \"sentiment\"], axis=1)\n",
        "train_feature"
      ],
      "metadata": {
        "colab": {
          "base_uri": "https://localhost:8080/",
          "height": 424
        },
        "id": "BU8WkcVI2bSg",
        "outputId": "a5c62a95-761f-47a8-cb20-eb966f5b5652"
      },
      "execution_count": 24,
      "outputs": [
        {
          "output_type": "execute_result",
          "data": {
            "text/plain": [
              "                                                    text\n",
              "0      [stuff, going, moment, mj, started, listening,...\n",
              "1      [classic, war, world, timothy, hines, entertai...\n",
              "2      [film, start, manager, nicholas, bell, giving,...\n",
              "3      [must, assumed, praised, film, greatest, filme...\n",
              "4      [superbly, trashy, wondrously, unpretentious, ...\n",
              "...                                                  ...\n",
              "24995  [seems, like, consideration, gone, imdb, revie...\n",
              "24996  [believe, made, film, completely, unnecessary,...\n",
              "24997  [guy, loser, cannot, get, girl, need, build, p...\n",
              "24998  [minute, documentary, buuel, made, early, one,...\n",
              "24999  [saw, movie, child, broke, heart, story, unfin...\n",
              "\n",
              "[25000 rows x 1 columns]"
            ],
            "text/html": [
              "\n",
              "  <div id=\"df-bdd969a6-f3d9-402c-9107-1a6b813563d1\">\n",
              "    <div class=\"colab-df-container\">\n",
              "      <div>\n",
              "<style scoped>\n",
              "    .dataframe tbody tr th:only-of-type {\n",
              "        vertical-align: middle;\n",
              "    }\n",
              "\n",
              "    .dataframe tbody tr th {\n",
              "        vertical-align: top;\n",
              "    }\n",
              "\n",
              "    .dataframe thead th {\n",
              "        text-align: right;\n",
              "    }\n",
              "</style>\n",
              "<table border=\"1\" class=\"dataframe\">\n",
              "  <thead>\n",
              "    <tr style=\"text-align: right;\">\n",
              "      <th></th>\n",
              "      <th>text</th>\n",
              "    </tr>\n",
              "  </thead>\n",
              "  <tbody>\n",
              "    <tr>\n",
              "      <th>0</th>\n",
              "      <td>[stuff, going, moment, mj, started, listening,...</td>\n",
              "    </tr>\n",
              "    <tr>\n",
              "      <th>1</th>\n",
              "      <td>[classic, war, world, timothy, hines, entertai...</td>\n",
              "    </tr>\n",
              "    <tr>\n",
              "      <th>2</th>\n",
              "      <td>[film, start, manager, nicholas, bell, giving,...</td>\n",
              "    </tr>\n",
              "    <tr>\n",
              "      <th>3</th>\n",
              "      <td>[must, assumed, praised, film, greatest, filme...</td>\n",
              "    </tr>\n",
              "    <tr>\n",
              "      <th>4</th>\n",
              "      <td>[superbly, trashy, wondrously, unpretentious, ...</td>\n",
              "    </tr>\n",
              "    <tr>\n",
              "      <th>...</th>\n",
              "      <td>...</td>\n",
              "    </tr>\n",
              "    <tr>\n",
              "      <th>24995</th>\n",
              "      <td>[seems, like, consideration, gone, imdb, revie...</td>\n",
              "    </tr>\n",
              "    <tr>\n",
              "      <th>24996</th>\n",
              "      <td>[believe, made, film, completely, unnecessary,...</td>\n",
              "    </tr>\n",
              "    <tr>\n",
              "      <th>24997</th>\n",
              "      <td>[guy, loser, cannot, get, girl, need, build, p...</td>\n",
              "    </tr>\n",
              "    <tr>\n",
              "      <th>24998</th>\n",
              "      <td>[minute, documentary, buuel, made, early, one,...</td>\n",
              "    </tr>\n",
              "    <tr>\n",
              "      <th>24999</th>\n",
              "      <td>[saw, movie, child, broke, heart, story, unfin...</td>\n",
              "    </tr>\n",
              "  </tbody>\n",
              "</table>\n",
              "<p>25000 rows × 1 columns</p>\n",
              "</div>\n",
              "      <button class=\"colab-df-convert\" onclick=\"convertToInteractive('df-bdd969a6-f3d9-402c-9107-1a6b813563d1')\"\n",
              "              title=\"Convert this dataframe to an interactive table.\"\n",
              "              style=\"display:none;\">\n",
              "        \n",
              "  <svg xmlns=\"http://www.w3.org/2000/svg\" height=\"24px\"viewBox=\"0 0 24 24\"\n",
              "       width=\"24px\">\n",
              "    <path d=\"M0 0h24v24H0V0z\" fill=\"none\"/>\n",
              "    <path d=\"M18.56 5.44l.94 2.06.94-2.06 2.06-.94-2.06-.94-.94-2.06-.94 2.06-2.06.94zm-11 1L8.5 8.5l.94-2.06 2.06-.94-2.06-.94L8.5 2.5l-.94 2.06-2.06.94zm10 10l.94 2.06.94-2.06 2.06-.94-2.06-.94-.94-2.06-.94 2.06-2.06.94z\"/><path d=\"M17.41 7.96l-1.37-1.37c-.4-.4-.92-.59-1.43-.59-.52 0-1.04.2-1.43.59L10.3 9.45l-7.72 7.72c-.78.78-.78 2.05 0 2.83L4 21.41c.39.39.9.59 1.41.59.51 0 1.02-.2 1.41-.59l7.78-7.78 2.81-2.81c.8-.78.8-2.07 0-2.86zM5.41 20L4 18.59l7.72-7.72 1.47 1.35L5.41 20z\"/>\n",
              "  </svg>\n",
              "      </button>\n",
              "      \n",
              "  <style>\n",
              "    .colab-df-container {\n",
              "      display:flex;\n",
              "      flex-wrap:wrap;\n",
              "      gap: 12px;\n",
              "    }\n",
              "\n",
              "    .colab-df-convert {\n",
              "      background-color: #E8F0FE;\n",
              "      border: none;\n",
              "      border-radius: 50%;\n",
              "      cursor: pointer;\n",
              "      display: none;\n",
              "      fill: #1967D2;\n",
              "      height: 32px;\n",
              "      padding: 0 0 0 0;\n",
              "      width: 32px;\n",
              "    }\n",
              "\n",
              "    .colab-df-convert:hover {\n",
              "      background-color: #E2EBFA;\n",
              "      box-shadow: 0px 1px 2px rgba(60, 64, 67, 0.3), 0px 1px 3px 1px rgba(60, 64, 67, 0.15);\n",
              "      fill: #174EA6;\n",
              "    }\n",
              "\n",
              "    [theme=dark] .colab-df-convert {\n",
              "      background-color: #3B4455;\n",
              "      fill: #D2E3FC;\n",
              "    }\n",
              "\n",
              "    [theme=dark] .colab-df-convert:hover {\n",
              "      background-color: #434B5C;\n",
              "      box-shadow: 0px 1px 3px 1px rgba(0, 0, 0, 0.15);\n",
              "      filter: drop-shadow(0px 1px 2px rgba(0, 0, 0, 0.3));\n",
              "      fill: #FFFFFF;\n",
              "    }\n",
              "  </style>\n",
              "\n",
              "      <script>\n",
              "        const buttonEl =\n",
              "          document.querySelector('#df-bdd969a6-f3d9-402c-9107-1a6b813563d1 button.colab-df-convert');\n",
              "        buttonEl.style.display =\n",
              "          google.colab.kernel.accessAllowed ? 'block' : 'none';\n",
              "\n",
              "        async function convertToInteractive(key) {\n",
              "          const element = document.querySelector('#df-bdd969a6-f3d9-402c-9107-1a6b813563d1');\n",
              "          const dataTable =\n",
              "            await google.colab.kernel.invokeFunction('convertToInteractive',\n",
              "                                                     [key], {});\n",
              "          if (!dataTable) return;\n",
              "\n",
              "          const docLinkHtml = 'Like what you see? Visit the ' +\n",
              "            '<a target=\"_blank\" href=https://colab.research.google.com/notebooks/data_table.ipynb>data table notebook</a>'\n",
              "            + ' to learn more about interactive tables.';\n",
              "          element.innerHTML = '';\n",
              "          dataTable['output_type'] = 'display_data';\n",
              "          await google.colab.output.renderOutput(dataTable, element);\n",
              "          const docLink = document.createElement('div');\n",
              "          docLink.innerHTML = docLinkHtml;\n",
              "          element.appendChild(docLink);\n",
              "        }\n",
              "      </script>\n",
              "    </div>\n",
              "  </div>\n",
              "  "
            ]
          },
          "metadata": {},
          "execution_count": 24
        }
      ]
    },
    {
      "cell_type": "code",
      "source": [
        "from sklearn.model_selection import train_test_split\n",
        "\n",
        "X_train, X_test, y_train, y_test = train_test_split(train_feature, train_target, test_size=0.2, random_state=42)\n",
        "X_train.shape, y_train.shape, X_test.shape, y_test.shape"
      ],
      "metadata": {
        "colab": {
          "base_uri": "https://localhost:8080/"
        },
        "id": "a7EocBPI6rut",
        "outputId": "68547962-0c79-451e-98de-bdcf6a240a86"
      },
      "execution_count": 25,
      "outputs": [
        {
          "output_type": "execute_result",
          "data": {
            "text/plain": [
              "((20000, 1), (20000,), (5000, 1), (5000,))"
            ]
          },
          "metadata": {},
          "execution_count": 25
        }
      ]
    },
    {
      "cell_type": "code",
      "source": [
        "X_train"
      ],
      "metadata": {
        "colab": {
          "base_uri": "https://localhost:8080/",
          "height": 424
        },
        "id": "ZsP6Uk5DYQlL",
        "outputId": "cc15a11d-e81a-4361-fbd0-1b4edb563759"
      },
      "execution_count": 26,
      "outputs": [
        {
          "output_type": "execute_result",
          "data": {
            "text/plain": [
              "                                                    text\n",
              "23311  [movie, plain, dumbbr, br, casting, ralph, mee...\n",
              "23623  [dahmer, young, confused, man, dahmer, confusi...\n",
              "1020   [may, saint, preserve, u, movie, going, helpbr...\n",
              "12645  [combination, reading, novella, viewing, film,...\n",
              "1533   [daniel, day, lewis, left, foot, give, u, one,...\n",
              "...                                                  ...\n",
              "21575  [distasteful, cliched, thriller, young, couple...\n",
              "5390   [stewart, wyoming, cattleman, dream, make, eno...\n",
              "860    [many, way, lost, year, motion, picture, fines...\n",
              "15795  [felt, film, throughout, waas, impressed, russ...\n",
              "23654  [intention, director, film, quite, honorable, ...\n",
              "\n",
              "[20000 rows x 1 columns]"
            ],
            "text/html": [
              "\n",
              "  <div id=\"df-f935dd72-b1f7-45c8-a51f-9522e14cb394\">\n",
              "    <div class=\"colab-df-container\">\n",
              "      <div>\n",
              "<style scoped>\n",
              "    .dataframe tbody tr th:only-of-type {\n",
              "        vertical-align: middle;\n",
              "    }\n",
              "\n",
              "    .dataframe tbody tr th {\n",
              "        vertical-align: top;\n",
              "    }\n",
              "\n",
              "    .dataframe thead th {\n",
              "        text-align: right;\n",
              "    }\n",
              "</style>\n",
              "<table border=\"1\" class=\"dataframe\">\n",
              "  <thead>\n",
              "    <tr style=\"text-align: right;\">\n",
              "      <th></th>\n",
              "      <th>text</th>\n",
              "    </tr>\n",
              "  </thead>\n",
              "  <tbody>\n",
              "    <tr>\n",
              "      <th>23311</th>\n",
              "      <td>[movie, plain, dumbbr, br, casting, ralph, mee...</td>\n",
              "    </tr>\n",
              "    <tr>\n",
              "      <th>23623</th>\n",
              "      <td>[dahmer, young, confused, man, dahmer, confusi...</td>\n",
              "    </tr>\n",
              "    <tr>\n",
              "      <th>1020</th>\n",
              "      <td>[may, saint, preserve, u, movie, going, helpbr...</td>\n",
              "    </tr>\n",
              "    <tr>\n",
              "      <th>12645</th>\n",
              "      <td>[combination, reading, novella, viewing, film,...</td>\n",
              "    </tr>\n",
              "    <tr>\n",
              "      <th>1533</th>\n",
              "      <td>[daniel, day, lewis, left, foot, give, u, one,...</td>\n",
              "    </tr>\n",
              "    <tr>\n",
              "      <th>...</th>\n",
              "      <td>...</td>\n",
              "    </tr>\n",
              "    <tr>\n",
              "      <th>21575</th>\n",
              "      <td>[distasteful, cliched, thriller, young, couple...</td>\n",
              "    </tr>\n",
              "    <tr>\n",
              "      <th>5390</th>\n",
              "      <td>[stewart, wyoming, cattleman, dream, make, eno...</td>\n",
              "    </tr>\n",
              "    <tr>\n",
              "      <th>860</th>\n",
              "      <td>[many, way, lost, year, motion, picture, fines...</td>\n",
              "    </tr>\n",
              "    <tr>\n",
              "      <th>15795</th>\n",
              "      <td>[felt, film, throughout, waas, impressed, russ...</td>\n",
              "    </tr>\n",
              "    <tr>\n",
              "      <th>23654</th>\n",
              "      <td>[intention, director, film, quite, honorable, ...</td>\n",
              "    </tr>\n",
              "  </tbody>\n",
              "</table>\n",
              "<p>20000 rows × 1 columns</p>\n",
              "</div>\n",
              "      <button class=\"colab-df-convert\" onclick=\"convertToInteractive('df-f935dd72-b1f7-45c8-a51f-9522e14cb394')\"\n",
              "              title=\"Convert this dataframe to an interactive table.\"\n",
              "              style=\"display:none;\">\n",
              "        \n",
              "  <svg xmlns=\"http://www.w3.org/2000/svg\" height=\"24px\"viewBox=\"0 0 24 24\"\n",
              "       width=\"24px\">\n",
              "    <path d=\"M0 0h24v24H0V0z\" fill=\"none\"/>\n",
              "    <path d=\"M18.56 5.44l.94 2.06.94-2.06 2.06-.94-2.06-.94-.94-2.06-.94 2.06-2.06.94zm-11 1L8.5 8.5l.94-2.06 2.06-.94-2.06-.94L8.5 2.5l-.94 2.06-2.06.94zm10 10l.94 2.06.94-2.06 2.06-.94-2.06-.94-.94-2.06-.94 2.06-2.06.94z\"/><path d=\"M17.41 7.96l-1.37-1.37c-.4-.4-.92-.59-1.43-.59-.52 0-1.04.2-1.43.59L10.3 9.45l-7.72 7.72c-.78.78-.78 2.05 0 2.83L4 21.41c.39.39.9.59 1.41.59.51 0 1.02-.2 1.41-.59l7.78-7.78 2.81-2.81c.8-.78.8-2.07 0-2.86zM5.41 20L4 18.59l7.72-7.72 1.47 1.35L5.41 20z\"/>\n",
              "  </svg>\n",
              "      </button>\n",
              "      \n",
              "  <style>\n",
              "    .colab-df-container {\n",
              "      display:flex;\n",
              "      flex-wrap:wrap;\n",
              "      gap: 12px;\n",
              "    }\n",
              "\n",
              "    .colab-df-convert {\n",
              "      background-color: #E8F0FE;\n",
              "      border: none;\n",
              "      border-radius: 50%;\n",
              "      cursor: pointer;\n",
              "      display: none;\n",
              "      fill: #1967D2;\n",
              "      height: 32px;\n",
              "      padding: 0 0 0 0;\n",
              "      width: 32px;\n",
              "    }\n",
              "\n",
              "    .colab-df-convert:hover {\n",
              "      background-color: #E2EBFA;\n",
              "      box-shadow: 0px 1px 2px rgba(60, 64, 67, 0.3), 0px 1px 3px 1px rgba(60, 64, 67, 0.15);\n",
              "      fill: #174EA6;\n",
              "    }\n",
              "\n",
              "    [theme=dark] .colab-df-convert {\n",
              "      background-color: #3B4455;\n",
              "      fill: #D2E3FC;\n",
              "    }\n",
              "\n",
              "    [theme=dark] .colab-df-convert:hover {\n",
              "      background-color: #434B5C;\n",
              "      box-shadow: 0px 1px 3px 1px rgba(0, 0, 0, 0.15);\n",
              "      filter: drop-shadow(0px 1px 2px rgba(0, 0, 0, 0.3));\n",
              "      fill: #FFFFFF;\n",
              "    }\n",
              "  </style>\n",
              "\n",
              "      <script>\n",
              "        const buttonEl =\n",
              "          document.querySelector('#df-f935dd72-b1f7-45c8-a51f-9522e14cb394 button.colab-df-convert');\n",
              "        buttonEl.style.display =\n",
              "          google.colab.kernel.accessAllowed ? 'block' : 'none';\n",
              "\n",
              "        async function convertToInteractive(key) {\n",
              "          const element = document.querySelector('#df-f935dd72-b1f7-45c8-a51f-9522e14cb394');\n",
              "          const dataTable =\n",
              "            await google.colab.kernel.invokeFunction('convertToInteractive',\n",
              "                                                     [key], {});\n",
              "          if (!dataTable) return;\n",
              "\n",
              "          const docLinkHtml = 'Like what you see? Visit the ' +\n",
              "            '<a target=\"_blank\" href=https://colab.research.google.com/notebooks/data_table.ipynb>data table notebook</a>'\n",
              "            + ' to learn more about interactive tables.';\n",
              "          element.innerHTML = '';\n",
              "          dataTable['output_type'] = 'display_data';\n",
              "          await google.colab.output.renderOutput(dataTable, element);\n",
              "          const docLink = document.createElement('div');\n",
              "          docLink.innerHTML = docLinkHtml;\n",
              "          element.appendChild(docLink);\n",
              "        }\n",
              "      </script>\n",
              "    </div>\n",
              "  </div>\n",
              "  "
            ]
          },
          "metadata": {},
          "execution_count": 26
        }
      ]
    },
    {
      "cell_type": "code",
      "source": [
        "from gensim.models import Word2Vec\n",
        "import time\n",
        "\n",
        "size = 1000\n",
        "window = 3\n",
        "min_count = 1\n",
        "workers = 3\n",
        "sg = 1 #skip-gram model (sg = 1)\n",
        "\n",
        "word2vec_model_file = \"/content/word2vec\" + str(size) + \".model\"\n",
        "start_time = time.time()\n",
        "\n",
        "w2v_model = Word2Vec(X_train[\"text\"], min_count = min_count, size=size, workers=workers, window=window, sg=sg)\n",
        "print(\"Time taken to train word2vec model: \" + str(time.time() - start_time))\n",
        "w2v_model.save(word2vec_model_file)"
      ],
      "metadata": {
        "colab": {
          "base_uri": "https://localhost:8080/"
        },
        "id": "l0O2_94F7yl-",
        "outputId": "20db7397-415c-4b95-d372-0783831ad81b"
      },
      "execution_count": 27,
      "outputs": [
        {
          "output_type": "stream",
          "name": "stdout",
          "text": [
            "Time taken to train word2vec model: 199.5869324207306\n"
          ]
        }
      ]
    },
    {
      "cell_type": "code",
      "source": [
        "import numpy as np\n",
        "\n",
        "sg_w2v_model = Word2Vec.load(word2vec_model_file)\n",
        "\n",
        "# Store the vectors for train data in following file\n",
        "word2vec_filename = \"/content/train_review_word2vec.csv\"\n",
        "\n",
        "with open(word2vec_filename, \"w+\") as word2vec_file:\n",
        "  \n",
        "  for index, row in X_train.iterrows():\n",
        "    \n",
        "    model_vector = (np.mean([sg_w2v_model[token] for token in row], axis=0)).tolist()\n",
        "\n",
        "    if index == 0:\n",
        "      header = \",\".join(str(ele) for ele in range(1000))\n",
        "      word2vec_file.write(header)\n",
        "      word2vec_file.write(\"\\n\")\n",
        "    \n",
        "    # Check if the line exists else it is vector of zeros\n",
        "\n",
        "    if type(model_vector) is list:\n",
        "      line = \",\".join([str(vector_element) for vector_element in model_vector])\n",
        "    else:\n",
        "      line = \",\".join([str(0) for i in range(1000)])\n",
        "    word2vec_file.write(line)\n",
        "    word2vec_file.write(\"\\n\")\n"
      ],
      "metadata": {
        "colab": {
          "base_uri": "https://localhost:8080/"
        },
        "id": "zYKYFG1l-mGC",
        "outputId": "a88a01fd-34fe-42c1-9a17-adcd4790c9a3"
      },
      "execution_count": 28,
      "outputs": [
        {
          "output_type": "stream",
          "name": "stderr",
          "text": [
            "/usr/local/lib/python3.7/dist-packages/ipykernel_launcher.py:12: DeprecationWarning: Call to deprecated `__getitem__` (Method will be removed in 4.0.0, use self.wv.__getitem__() instead).\n",
            "  if sys.path[0] == '':\n"
          ]
        }
      ]
    },
    {
      "cell_type": "code",
      "source": [
        "import time\n",
        "\n",
        "#Import the DecisionTreeeClassifier\n",
        "from sklearn.tree import DecisionTreeClassifier\n",
        "\n",
        "#Load from the filename\n",
        "word2vec_df = pd.read_csv(word2vec_filename, on_bad_lines='skip')\n",
        "\n",
        "#Initialize the model\n",
        "clf_decision_word2vec = DecisionTreeClassifier()\n",
        "\n",
        "start_time = time.time()\n",
        "\n",
        "#Fit the model\n",
        "clf_decision_word2vec.fit(word2vec_df, y_train)\n",
        "\n",
        "print(\"Time taken to fit the model with word2vec vectors: \" + str(time.time() - start_time))"
      ],
      "metadata": {
        "id": "uIGJcJZ1ngem"
      },
      "execution_count": null,
      "outputs": []
    },
    {
      "cell_type": "code",
      "source": [
        "from sklearn.metrics import classification_report\n",
        "test_feartures_word2vec = []\n",
        "\n",
        "for index, row in X_test.iterrows():\n",
        "  model_vector = (np.mean([sg_w2v_model[token] for token in row], axis=0))\n",
        "  if type(model_vector) is list:\n",
        "    test_features_word2vec.append(model_vector)\n",
        "  else:\n",
        "    test_features_word2vec.append(np.array([0 for i in range(1000)]))\n",
        "\n",
        "test_predictions_word2vec = clf_decision_word2vec.predict(test_features_word2vec)\n",
        "print(classification_report(y_test[\"text\"], test_predictions_word2vec))"
      ],
      "metadata": {
        "id": "6Kk47WAfuUpx"
      },
      "execution_count": null,
      "outputs": []
    },
    {
      "cell_type": "code",
      "source": [
        ""
      ],
      "metadata": {
        "id": "AgnVcUSkB263"
      },
      "execution_count": null,
      "outputs": []
    }
  ]
}